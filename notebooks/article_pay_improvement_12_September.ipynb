{
 "cells": [
  {
   "cell_type": "code",
   "execution_count": 1,
   "id": "fd15ca9a",
   "metadata": {},
   "outputs": [
    {
     "name": "stderr",
     "output_type": "stream",
     "text": [
      "2023-09-12 02:35:09.509986: I tensorflow/core/platform/cpu_feature_guard.cc:193] This TensorFlow binary is optimized with oneAPI Deep Neural Network Library (oneDNN) to use the following CPU instructions in performance-critical operations:  AVX2 AVX512F AVX512_VNNI FMA\n",
      "To enable them in other operations, rebuild TensorFlow with the appropriate compiler flags.\n",
      "2023-09-12 02:35:09.627732: I tensorflow/core/util/util.cc:169] oneDNN custom operations are on. You may see slightly different numerical results due to floating-point round-off errors from different computation orders. To turn them off, set the environment variable `TF_ENABLE_ONEDNN_OPTS=0`.\n",
      "2023-09-12 02:35:09.658618: E tensorflow/stream_executor/cuda/cuda_blas.cc:2981] Unable to register cuBLAS factory: Attempting to register factory for plugin cuBLAS when one has already been registered\n",
      "2023-09-12 02:35:10.196701: W tensorflow/stream_executor/platform/default/dso_loader.cc:64] Could not load dynamic library 'libnvinfer.so.7'; dlerror: libnvinfer.so.7: cannot open shared object file: No such file or directory; LD_LIBRARY_PATH: /usr/local/cuda-12.2/lib64:/usr/local/cuda-12.2/lib64:/home/tshegofatso/miniconda3/envs/tf_38gpu/lib/\n",
      "2023-09-12 02:35:10.196743: W tensorflow/stream_executor/platform/default/dso_loader.cc:64] Could not load dynamic library 'libnvinfer_plugin.so.7'; dlerror: libnvinfer_plugin.so.7: cannot open shared object file: No such file or directory; LD_LIBRARY_PATH: /usr/local/cuda-12.2/lib64:/usr/local/cuda-12.2/lib64:/home/tshegofatso/miniconda3/envs/tf_38gpu/lib/\n",
      "2023-09-12 02:35:10.196748: W tensorflow/compiler/tf2tensorrt/utils/py_utils.cc:38] TF-TRT Warning: Cannot dlopen some TensorRT libraries. If you would like to use Nvidia GPU with TensorRT, please make sure the missing libraries mentioned above are installed properly.\n"
     ]
    }
   ],
   "source": [
    "import tensorflow as tf\n",
    "import numpy as np\n",
    "from functools import partial\n",
    "import matplotlib.pyplot as plt\n",
    "from tqdm.notebook import tnrange\n",
    "from scipy.integrate import solve_ivp, odeint, complex_ode,ode\n",
    "from scipy import linalg\n",
    "\n",
    "import pandas as pd\n",
    "\n",
    "import time"
   ]
  },
  {
   "cell_type": "code",
   "execution_count": 2,
   "id": "d2d380bb",
   "metadata": {},
   "outputs": [
    {
     "name": "stdout",
     "output_type": "stream",
     "text": [
      "SUCCESS: Found GPU: /device:GPU:0\n"
     ]
    },
    {
     "name": "stderr",
     "output_type": "stream",
     "text": [
      "2023-09-12 02:35:11.264740: I tensorflow/core/platform/cpu_feature_guard.cc:193] This TensorFlow binary is optimized with oneAPI Deep Neural Network Library (oneDNN) to use the following CPU instructions in performance-critical operations:  AVX2 AVX512F AVX512_VNNI FMA\n",
      "To enable them in other operations, rebuild TensorFlow with the appropriate compiler flags.\n",
      "2023-09-12 02:35:11.339586: I tensorflow/stream_executor/cuda/cuda_gpu_executor.cc:980] successful NUMA node read from SysFS had negative value (-1), but there must be at least one NUMA node, so returning NUMA node zero\n",
      "2023-09-12 02:35:11.363945: I tensorflow/stream_executor/cuda/cuda_gpu_executor.cc:980] successful NUMA node read from SysFS had negative value (-1), but there must be at least one NUMA node, so returning NUMA node zero\n",
      "2023-09-12 02:35:11.364066: I tensorflow/stream_executor/cuda/cuda_gpu_executor.cc:980] successful NUMA node read from SysFS had negative value (-1), but there must be at least one NUMA node, so returning NUMA node zero\n",
      "2023-09-12 02:35:11.791023: I tensorflow/stream_executor/cuda/cuda_gpu_executor.cc:980] successful NUMA node read from SysFS had negative value (-1), but there must be at least one NUMA node, so returning NUMA node zero\n",
      "2023-09-12 02:35:11.791562: I tensorflow/stream_executor/cuda/cuda_gpu_executor.cc:980] successful NUMA node read from SysFS had negative value (-1), but there must be at least one NUMA node, so returning NUMA node zero\n",
      "2023-09-12 02:35:11.791947: I tensorflow/stream_executor/cuda/cuda_gpu_executor.cc:980] successful NUMA node read from SysFS had negative value (-1), but there must be at least one NUMA node, so returning NUMA node zero\n",
      "2023-09-12 02:35:11.792243: I tensorflow/core/common_runtime/gpu/gpu_device.cc:1616] Created device /device:GPU:0 with 6112 MB memory:  -> device: 0, name: NVIDIA GeForce RTX 3070 Laptop GPU, pci bus id: 0000:01:00.0, compute capability: 8.6\n",
      "2023-09-12 02:35:11.793926: I tensorflow/stream_executor/cuda/cuda_gpu_executor.cc:980] successful NUMA node read from SysFS had negative value (-1), but there must be at least one NUMA node, so returning NUMA node zero\n",
      "2023-09-12 02:35:11.794432: I tensorflow/stream_executor/cuda/cuda_gpu_executor.cc:980] successful NUMA node read from SysFS had negative value (-1), but there must be at least one NUMA node, so returning NUMA node zero\n",
      "2023-09-12 02:35:11.794802: I tensorflow/stream_executor/cuda/cuda_gpu_executor.cc:980] successful NUMA node read from SysFS had negative value (-1), but there must be at least one NUMA node, so returning NUMA node zero\n",
      "2023-09-12 02:35:11.795250: I tensorflow/stream_executor/cuda/cuda_gpu_executor.cc:980] successful NUMA node read from SysFS had negative value (-1), but there must be at least one NUMA node, so returning NUMA node zero\n",
      "2023-09-12 02:35:11.795630: I tensorflow/stream_executor/cuda/cuda_gpu_executor.cc:980] successful NUMA node read from SysFS had negative value (-1), but there must be at least one NUMA node, so returning NUMA node zero\n",
      "2023-09-12 02:35:11.795920: I tensorflow/core/common_runtime/gpu/gpu_device.cc:1616] Created device /device:GPU:0 with 6112 MB memory:  -> device: 0, name: NVIDIA GeForce RTX 3070 Laptop GPU, pci bus id: 0000:01:00.0, compute capability: 8.6\n"
     ]
    }
   ],
   "source": [
    "tf.__version__\n",
    "if tf.test.gpu_device_name() != '/device:GPU:0':\n",
    "    print('WARNING: GPU device not found.')\n",
    "else:\n",
    "    print('SUCCESS: Found GPU: {}'.format(tf.test.gpu_device_name()))"
   ]
  },
  {
   "cell_type": "code",
   "execution_count": 3,
   "id": "e2eef538",
   "metadata": {},
   "outputs": [
    {
     "name": "stderr",
     "output_type": "stream",
     "text": [
      "2023-09-12 02:35:11.814484: I tensorflow/stream_executor/cuda/cuda_gpu_executor.cc:980] successful NUMA node read from SysFS had negative value (-1), but there must be at least one NUMA node, so returning NUMA node zero\n",
      "2023-09-12 02:35:11.815287: I tensorflow/stream_executor/cuda/cuda_gpu_executor.cc:980] successful NUMA node read from SysFS had negative value (-1), but there must be at least one NUMA node, so returning NUMA node zero\n",
      "2023-09-12 02:35:11.815794: I tensorflow/stream_executor/cuda/cuda_gpu_executor.cc:980] successful NUMA node read from SysFS had negative value (-1), but there must be at least one NUMA node, so returning NUMA node zero\n"
     ]
    }
   ],
   "source": [
    "gpus = tf.config.experimental.list_physical_devices('GPU')\n",
    "if gpus:\n",
    "    try:\n",
    "        tf.config.experimental.set_virtual_device_configuration(\n",
    "        gpus[0],[tf.config.experimental.VirtualDeviceConfiguration(memory_limit=5120)])\n",
    "    except RuntimeError as e:\n",
    "        print(e)"
   ]
  },
  {
   "cell_type": "code",
   "execution_count": 4,
   "id": "313b2a44",
   "metadata": {},
   "outputs": [],
   "source": [
    "class MyDense(tf.keras.layers.Layer):\n",
    "    '''\n",
    "    Inputs:\n",
    "    \n",
    "    units : number of neurons\n",
    "    initialization = 0,1\n",
    "           if activations are:\n",
    "           init =0(He): ReLU, Leaky ReLU, ELU, GELU, Swish, Mish\n",
    "           init =1(Xavier_Glorot): None, tanh, sigmoid, softmax \n",
    "           \n",
    "    activation: activation to be use either string or callable\n",
    "    \n",
    "    \n",
    "    Output:\n",
    "            returns activation(wx+b) with appropriate initialization\n",
    "    \n",
    "    '''\n",
    "    def __init__(self, units = 20, initialization=None, activation = None): #None = gives basic activation\n",
    "        super(MyDense, self).__init__()\n",
    "        self.units = units   \n",
    "        self.init = initialization\n",
    "        \n",
    "        if activation == 'mish':\n",
    "            self.activation = tf.keras.activations.get(self.mish_activation)\n",
    "        else:\n",
    "            self.activation = tf.keras.activations.get(activation)\n",
    "       \n",
    "    @tf.function\n",
    "    def mish_activation(self, x):\n",
    "        print(f'called_mish')\n",
    "    #     mish(x) = xtanh(softsplus(x))  it needs  He initialization\n",
    "        return x*tf.math.tanh(tf.nn.softplus(x))       \n",
    "    \n",
    "    \n",
    "# We get them from the shape of w= shape\n",
    "# shape[0] : number of inputs to the neuron\n",
    "# shape[1] : number of output from the neuron\n",
    "#     @tf.function(reduce_retracing=True)\n",
    "    def Xavier_Glorot_initializer(self,shape, dtype=tf.float32):\n",
    "        '''\n",
    "        Xavier Glorot: initialization must be used for the following activations:\n",
    "        None, tanh, sigmoid, softmax\n",
    "\n",
    "       input: \n",
    "            shape = [number of columns, units]\n",
    "\n",
    "       output:\n",
    "               samples normal distribution of mean = 0 stddev = sqrt(2./inputs_shape+units)\n",
    "        '''\n",
    "        print('Initial weight with  Xavier Glorot ')\n",
    "        \n",
    "        shape_to_float = tf.cast(shape, dtype=tf.float32)\n",
    "        fanin = shape_to_float[0]\n",
    "        fanout = shape_to_float[1]\n",
    "        stddev = tf.sqrt(2. /(fanin+fanout)  )\n",
    "        return tf.random.normal(shape, stddev=stddev, dtype=dtype)\n",
    "    \n",
    "#     @tf.function(reduce_retracing=True) \n",
    "    def He_initializer(self,shape,dtype = tf.float32):\n",
    "        '''\n",
    "        input: \n",
    "                shape = [number of columns, units]\n",
    "\n",
    "        He (aka He normal)initialization must be used for the following activations:\n",
    "        ReLU, Leaky ReLU, ELU, GELU, Swish, Mish\n",
    "\n",
    "        He initialization:\n",
    "        random normal with variance and mean of 2/fanin = 2/no. of inputs = 2/inputs\n",
    "        '''\n",
    "        shape_to_float = tf.cast(shape, dtype=tf.float32)\n",
    "#         print(f'INIT shape = {shape}, dtype = {shape.dtype}')\n",
    "#         fanin = tf.constant(shape[0], dtype = tf.float32)\n",
    "        fanin = shape_to_float[0]\n",
    "#         print(f'fanin = {fanin}')\n",
    "        stddev = tf.sqrt(2. /fanin)\n",
    "#         print(f'stddev = {stddev}')\n",
    "        print('Initial weight with  He')\n",
    "        return tf.random.normal(shape, stddev=stddev, dtype=dtype)        \n",
    "\n",
    "#     Initialize kernel aka w\n",
    "    def init_w(self, input_shape):\n",
    "        shape = [input_shape[-1], self.units]\n",
    "        shape = tf.constant(shape, dtype=tf.int32)\n",
    "\n",
    "        if self.init == 0:\n",
    "#             Initialize with He : Relu and variants activation functions\n",
    "            value = self.He_initializer(shape)\n",
    "        else:\n",
    "#             Initialize with Xavier_Glorot : None, tanh, sigmoid, softmax activation functions\n",
    "            value = self.Xavier_Glorot_initializer(shape)\n",
    "            \n",
    "        return tf.Variable(name = 'kernel', initial_value=value ,trainable = True )\n",
    "\n",
    "#     Initialize biase aka b\n",
    "    def init_b(self):\n",
    "        value = tf.zeros(self.units)\n",
    "        return tf.Variable(name = 'bias', initial_value=value ,trainable = True )    \n",
    "       \n",
    "        \n",
    "    def build(self, input_shape):\n",
    "        self.w = self.init_w(input_shape)\n",
    "        self.b = self.init_b()\n",
    "        \n",
    "    def call(self, inputs):\n",
    "        out_put = self.activation(tf.matmul(inputs, self.w) + self.b)\n",
    "        return out_put"
   ]
  },
  {
   "cell_type": "code",
   "execution_count": 5,
   "id": "2bace8d4",
   "metadata": {},
   "outputs": [],
   "source": [
    "class Z_approx(tf.keras.Model):\n",
    "    def __init__(self,num_of_hid_layers = None, units_per_layer = None, num_out=1, initialization=None, activation=None ):\n",
    "        super(Z_approx,self).__init__()\n",
    "        self.num_of_hid_layers = num_of_hid_layers\n",
    "        self.units_per_layer = units_per_layer\n",
    "        self.num_out = num_out\n",
    "        self.init = initialization\n",
    "        self.normalize = tf.keras.layers.Normalization()\n",
    "        \n",
    "        if self.init == 0:\n",
    "            kerner_init = tf.keras.initializers.he_normal()\n",
    "        else:\n",
    "            kerner_init = tf.keras.initializers.glorot_normal()\n",
    "            \n",
    "        \n",
    "        \n",
    "        \n",
    "        self.initialization = initialization\n",
    "        self.activation = activation\n",
    "        \n",
    "        \n",
    "        self.hidden_layers = [MyDense(self.units_per_layer, self.initialization, self.activation) \n",
    "                              for _ in range(self.num_of_hid_layers)]\n",
    "        \n",
    "        self.out = MyDense(units=self.num_out, initialization=self.initialization)\n",
    "        \n",
    "        self.bn = [tf.keras.layers.BatchNormalization() for _ in range(self.num_of_hid_layers)]\n",
    "    \n",
    "    def call(self, inputs):\n",
    "        '''\n",
    "        Add BN before since the layer includes activations\n",
    "        \n",
    "        '''\n",
    "        \n",
    "        for i in range(self.num_of_hid_layers):\n",
    "            if i == 0:\n",
    "                x = self.normalize(inputs)\n",
    "                x = self.bn[i](x)\n",
    "            else:\n",
    "                x = self.bn[i](x)\n",
    "                \n",
    "            x = self.hidden_layers[i](x)\n",
    "            \n",
    "        return self.out(x)          "
   ]
  },
  {
   "cell_type": "code",
   "execution_count": 6,
   "id": "a7001087",
   "metadata": {
    "scrolled": true
   },
   "outputs": [
    {
     "name": "stderr",
     "output_type": "stream",
     "text": [
      "2023-09-12 02:35:11.866120: I tensorflow/stream_executor/cuda/cuda_gpu_executor.cc:980] successful NUMA node read from SysFS had negative value (-1), but there must be at least one NUMA node, so returning NUMA node zero\n",
      "2023-09-12 02:35:11.866440: I tensorflow/stream_executor/cuda/cuda_gpu_executor.cc:980] successful NUMA node read from SysFS had negative value (-1), but there must be at least one NUMA node, so returning NUMA node zero\n",
      "2023-09-12 02:35:11.866617: I tensorflow/stream_executor/cuda/cuda_gpu_executor.cc:980] successful NUMA node read from SysFS had negative value (-1), but there must be at least one NUMA node, so returning NUMA node zero\n",
      "2023-09-12 02:35:11.866789: I tensorflow/stream_executor/cuda/cuda_gpu_executor.cc:980] successful NUMA node read from SysFS had negative value (-1), but there must be at least one NUMA node, so returning NUMA node zero\n",
      "2023-09-12 02:35:11.866932: I tensorflow/stream_executor/cuda/cuda_gpu_executor.cc:980] successful NUMA node read from SysFS had negative value (-1), but there must be at least one NUMA node, so returning NUMA node zero\n",
      "2023-09-12 02:35:11.867048: I tensorflow/core/common_runtime/gpu/gpu_device.cc:1616] Created device /job:localhost/replica:0/task:0/device:GPU:0 with 6112 MB memory:  -> device: 0, name: NVIDIA GeForce RTX 3070 Laptop GPU, pci bus id: 0000:01:00.0, compute capability: 8.6\n"
     ]
    },
    {
     "data": {
      "text/plain": [
       "TensorShape([2000, 1])"
      ]
     },
     "execution_count": 6,
     "metadata": {},
     "output_type": "execute_result"
    }
   ],
   "source": [
    "t = tf.linspace(0,1,2000)[:,tf.newaxis]\n",
    "t = tf.cast(t, tf.float32)\n",
    "t.shape"
   ]
  },
  {
   "cell_type": "code",
   "execution_count": 7,
   "id": "5344da3a",
   "metadata": {},
   "outputs": [
    {
     "name": "stdout",
     "output_type": "stream",
     "text": [
      "Initial weight with  He\n",
      "called_mish\n",
      "Initial weight with  He\n",
      "called_mish\n",
      "Initial weight with  He\n"
     ]
    }
   ],
   "source": [
    "z_hat = Z_approx(num_of_hid_layers = 2, units_per_layer = 10, num_out=4, initialization = 0,activation = 'mish')\n",
    "z_hat.build(t.shape)"
   ]
  },
  {
   "cell_type": "code",
   "execution_count": 8,
   "id": "2363a4f6",
   "metadata": {},
   "outputs": [
    {
     "name": "stderr",
     "output_type": "stream",
     "text": [
      "2023-09-12 02:35:12.677828: I tensorflow/stream_executor/cuda/cuda_blas.cc:1614] TensorFloat-32 will be used for the matrix multiplication. This will only be logged once.\n"
     ]
    },
    {
     "data": {
      "text/plain": [
       "TensorShape([2000, 4])"
      ]
     },
     "execution_count": 8,
     "metadata": {},
     "output_type": "execute_result"
    }
   ],
   "source": [
    "z_hat(t).shape\n",
    "# remember z1 = u1 + iv1; z2 = u2 + iv2 hence 4"
   ]
  },
  {
   "cell_type": "code",
   "execution_count": 9,
   "id": "f15e973b",
   "metadata": {},
   "outputs": [],
   "source": [
    "# Quasi Newton to improve the result\n",
    "shapes = tf.shape_n(z_hat.trainable_variables)\n",
    "length_shapes = len(shapes)\n",
    "count = 0\n",
    "idx = []\n",
    "part = []\n",
    "for i in range(length_shapes):\n",
    "    n = np.product(shapes[i])\n",
    "    idx.append(tf.reshape(tf.range(count, count+n, dtype=tf.int32),shapes[i]))\n",
    "    count += n   \n",
    "    part.extend([i]*n)\n",
    "\n",
    "    \n",
    "@tf.function    \n",
    "def update_weights(OneD):\n",
    "    params = tf.dynamic_partition(OneD, part, length_shapes)\n",
    "    for i, (shape, param) in enumerate(zip(shapes, params)):\n",
    "        z_hat.trainable_variables[i].assign(tf.reshape(param, shape))\n",
    "        \n",
    "\n",
    "@tf.function\n",
    "def flatten_the_parameters(weights):\n",
    "    return tf.dynamic_stitch(idx, weights) \n",
    "\n",
    "@tf.function\n",
    "def flat_jacobian(flat_weights,argument):\n",
    "#     z has four columns (a_r,a_i,b_r,b_i)=[0,1,2,3]\n",
    "    #update weights \n",
    "    update_weights(flat_weights)\n",
    "    with tf.GradientTape() as g:\n",
    "        y_hat = z_hat(t)[:,argument][:,tf.newaxis]\n",
    "         \n",
    "    grad = g.gradient(y_hat, z_hat.trainable_variables) \n",
    "    flattend_grad = flatten_the_parameters(grad)[tf.newaxis,:] #converts from multDim to 1D\n",
    "    return flattend_grad"
   ]
  },
  {
   "cell_type": "markdown",
   "id": "7bfc2f4d",
   "metadata": {},
   "source": [
    "Considered equation to solve:\n",
    "        \n",
    "$$\\dot{z_1} = -k z_2^{*}$$        \n",
    "$$\\dot{z_2} = -k z_1^{*}$$   \n",
    "\n",
    "Where * represent complex conjugate. In matrix form\n",
    "\n",
    "\\begin{align*}\n",
    "\\dot{z} &= -k\\left[\\begin{array}{cc}\n",
    "  0 & 1 \\\\\n",
    "  1 & 0 \\\\\n",
    "\\end{array}\\right]\n",
    "\\begin{bmatrix}\n",
    "  z_{1}^{*}  \\\\\n",
    "  x_{2}^{*}  \\\\\n",
    "\\end{bmatrix} \\\\\n",
    "\\end{align*}"
   ]
  },
  {
   "cell_type": "code",
   "execution_count": 10,
   "id": "23218a7d",
   "metadata": {},
   "outputs": [],
   "source": [
    "class PINN:\n",
    "    def __init__(self, t, model,z_init,optim):\n",
    "        self.model = model\n",
    "        self.t = t\n",
    "        self.u1_init = z_init[0]\n",
    "        self.v1_init = z_init[1]\n",
    "        self.u2_init = z_init[2]\n",
    "        self.v2_init = z_init[3]        \n",
    "        self.optim = optim\n",
    "\n",
    "        \n",
    "    def get_derivatives(self,t):\n",
    "        '''\n",
    "        Calculate the derivatives and function that correspond to the ode\n",
    "\n",
    "        input:\n",
    "                t : independent variant\n",
    "\n",
    "        output:\n",
    "                value and corresponding derivative\n",
    "\n",
    "        '''\n",
    "        \n",
    "#         z = u + iv\n",
    "        with tf.GradientTape(persistent=True) as tape:\n",
    "            tape.watch(t)    \n",
    "            u1 = self.model(t)[:,:1]\n",
    "            v1 = self.model(t)[:,1:2] \n",
    "            u2 = self.model(t)[:,2:3]\n",
    "            v2 = self.model(t)[:,3:4]     \n",
    "        du1dt = tf.cast(tape.gradient(u1,t), dtype=tf.float32)\n",
    "        dv1dt =  tf.cast(tape.gradient(v1,t),dtype=tf.float32)\n",
    "        du2dt = tf.cast(tape.gradient(u2,t), dtype=tf.float32)\n",
    "        dv2dt =  tf.cast(tape.gradient(v2,t),dtype=tf.float32)            \n",
    "  \n",
    "        del tape\n",
    "        \n",
    "        return u1,v1,u2,v2,du1dt,dv1dt,du2dt,dv2dt\n",
    "    \n",
    "    def equations(self, u1,v1,u2,v2,du1dt,dv1dt,du2dt,dv2dt):\n",
    "        #     derivatives must be dtype tf.float32\n",
    "        #     derivatives must be dtype tf.float32\n",
    "        #     dz1dt = -ikz2*\n",
    "        #     dz2dt = -ikz1*\n",
    "        k = tf.constant(1.,dtype = tf.float32)\n",
    "        k = tf.complex(k,0.0)\n",
    "        dz1dt = tf.complex(du1dt,dv1dt) # dzdt1 = dudt + idvdt . \n",
    "        dz2dt = tf.complex(du2dt,dv2dt) # dzdt1 = dudt + idvdt . \n",
    "\n",
    "\n",
    "        z1 = tf.complex(u1,v1) #z1 = u1 + iv1\n",
    "        z2 = tf.complex(u2,v2)\n",
    "\n",
    "        z1_star = tf.math.conj(z1)   #z1* = complex conjugate (z1)\n",
    "        z2_star = tf.math.conj(z2)   #z2* = complex conjugate (z1)\n",
    "        \n",
    "        rhs1 = -k*z2_star*1.j\n",
    "        rhs2 = -k*z1_star*1.j\n",
    "\n",
    "    #     real(LHS)-Real(RHS) = -Imag(LHS)+Img(RHS) Equation from PINN paper\n",
    "\n",
    "        f_real1 =  tf.math.real(dz1dt) - tf.math.real(rhs1) # = real(LHS)-Real(RHS)\n",
    "        f_imag1 = -tf.math.imag(dz1dt) + tf.math.imag(rhs1) # = -Imag(LHS)+Img(RHS)\n",
    "\n",
    "        f_real2 =  tf.math.real(dz2dt) - tf.math.real(rhs2) # = real(LHS)-Real(RHS)\n",
    "        f_imag2 = -tf.math.imag(dz2dt) + tf.math.imag(rhs2) # = -Imag(LHS)+Img(RHS)    \n",
    "\n",
    "\n",
    "        return f_real1,f_imag1,f_real2,f_imag2\n",
    "        \n",
    "    def ode_ic(self):\n",
    "        u1,v1,u2,v2,du1dt,dv1dt,du2dt,dv2dt  = self.get_derivatives(self.t)\n",
    "        f_real1,f_imag1,f_real2,f_imag2 = self.equations(u1,v1,u2,v2,du1dt,dv1dt,du2dt,dv2dt)\n",
    "        u1 =  f_real1\n",
    "        u2 =  f_imag1\n",
    "        u3 =  f_real2\n",
    "        u4 =  f_imag2        \n",
    "        \n",
    "#         Initial conditions\n",
    "        u10,v10,u20,v20,_,_,_,_= self.get_derivatives(tf.zeros_like(self.t))\n",
    "#        \n",
    "        u5 = u10  - self.u1_init\n",
    "        u6 = v10  - self.v1_init\n",
    "        u7 = u20  - self.u2_init\n",
    "        u8 = v20  - self.v2_init\n",
    "        return u1,u2,u3,u4,u5,u6,u7,u8\n",
    "        \n",
    "    def loss(self):\n",
    "        u1,u2,u3,u4,u5,u6,u7,u8 = self.ode_ic()\n",
    "        mse_u1  = tf.reduce_mean(tf.square(u1))\n",
    "        mse_u2  = tf.reduce_mean(tf.square(u2))\n",
    "        mse_u3  = tf.reduce_mean(tf.square(u3))\n",
    "        mse_u4  = tf.reduce_mean(tf.square(u4))\n",
    "        \n",
    "        mse_u5  = tf.reduce_mean(tf.square(u5))\n",
    "        mse_u6  = tf.reduce_mean(tf.square(u6))\n",
    "        mse_u7  = tf.reduce_mean(tf.square(u7))\n",
    "        mse_u8  = tf.reduce_mean(tf.square(u8))        \n",
    "        \n",
    "        mse_t = mse_u1+mse_u2 + mse_u3+mse_u4+mse_u5+mse_u6+mse_u7+mse_u8\n",
    "\n",
    "        return mse_t\n",
    "\n",
    "    @tf.function\n",
    "    def loss_stats(self):\n",
    "        u1,u2,u3,u4,u5,u6,u7,u8 = self.ode_ic()\n",
    "        mse_u1  = tf.reduce_mean(tf.square(u1))\n",
    "        mse_u2  = tf.reduce_mean(tf.square(u2))\n",
    "        mse_u3  = tf.reduce_mean(tf.square(u3))\n",
    "        mse_u4  = tf.reduce_mean(tf.square(u4))\n",
    "        \n",
    "        mse_u5  = tf.reduce_mean(tf.square(u5))\n",
    "        mse_u6  = tf.reduce_mean(tf.square(u6))\n",
    "        mse_u7  = tf.reduce_mean(tf.square(u7))\n",
    "        mse_u8  = tf.reduce_mean(tf.square(u8))         \n",
    "        \n",
    "        return mse_u1,mse_u2,mse_u3,mse_u4,mse_u5,mse_u6,mse_u7,mse_u8    \n",
    "\n",
    "    @tf.function\n",
    "    def train_and_update(self):\n",
    "#         print(f'params : \\n {self.model.trainable_variables}')\n",
    "        with tf.GradientTape() as tape:\n",
    "#                 tape.watch(model.trainable_variables)\n",
    "            los  = self.loss()\n",
    "        dlossdpa = tape.gradient(los,self.model.trainable_variables) \n",
    "        self.optim.apply_gradients(zip(dlossdpa, self.model.trainable_variables))\n",
    "        return los    \n",
    "    \n",
    "    def train(self,epochs,epoch_print):\n",
    "\n",
    "        losses = []\n",
    "        loss_decrease = []\n",
    "        best_so_far = np.inf\n",
    "        best_so_far_ar = np.inf\n",
    "        best_so_far_ai = np.inf\n",
    "        \n",
    "        best_so_far_br = np.inf\n",
    "        best_so_far_bi = np.inf\n",
    "        \n",
    "        best_so_far_ar0 = np.inf\n",
    "        best_so_far_ai0 = np.inf\n",
    "        \n",
    "        best_so_far_br0 = np.inf\n",
    "        best_so_far_bi0 = np.inf          \n",
    "        \n",
    "        loss_a_real = []\n",
    "        loss_a_imag = []\n",
    "        loss_b_real = []\n",
    "        loss_b_imag = []\n",
    "\n",
    "        loss_a_real_0 = []\n",
    "        loss_a_imag_0 = []\n",
    "        loss_b_real_0 = []\n",
    "        loss_b_imag_0 = []\n",
    "        \n",
    "        loss_dict ={}\n",
    "       \n",
    "\n",
    "        initial_loss = self.train_and_update().numpy()\n",
    "        print(f'initial loss : {initial_loss}')\n",
    "        # losses.append(initial_loss)\n",
    "\n",
    "        for epoch in tnrange(epochs):\n",
    "            start_time = time.time()\n",
    "            loss = self.train_and_update().numpy()\n",
    "\n",
    "            mse_ar,mse_ai,mse_br,mse_bi,mse_a0r,mse_a0i,mse_b0r,mse_b0i =self.loss_stats()\n",
    "            \n",
    "            if loss < best_so_far:\n",
    "                if (mse_ar < best_so_far_ar) and (mse_ai < best_so_far_ai):\n",
    "                    if (mse_br < best_so_far_br) and (mse_bi < best_so_far_bi):\n",
    "                        if (mse_a0r < best_so_far_ar0) and (mse_a0i < best_so_far_ai0):\n",
    "                            if (mse_b0r < best_so_far_br0) and (mse_b0i < best_so_far_bi0):\n",
    "                                losses.append(loss)\n",
    "                                \n",
    "                                loss_a_real.append(mse_ar.numpy())\n",
    "                                loss_a_imag.append(mse_ai.numpy())\n",
    "                                loss_b_real.append(mse_br.numpy())\n",
    "                                loss_b_imag.append(mse_bi.numpy())  \n",
    "\n",
    "                                loss_a_real_0.append(mse_a0r.numpy())\n",
    "                                loss_a_imag_0.append(mse_a0i.numpy())\n",
    "                                loss_b_real_0.append(mse_b0r.numpy())\n",
    "                                loss_b_imag_0.append(mse_b0i.numpy())   \n",
    "                                \n",
    "                                best_so_far = loss\n",
    "                                best_so_far_ar = mse_ar\n",
    "                                best_so_far_ai = mse_ai\n",
    "\n",
    "                                best_so_far_br = mse_br\n",
    "                                best_so_far_bi = mse_bi\n",
    "\n",
    "                                best_so_far_ar0 = mse_a0r\n",
    "                                best_so_far_ai0 = mse_a0i\n",
    "\n",
    "                                best_so_far_br0 = mse_b0r\n",
    "                                best_so_far_bi0 = mse_b0i\n",
    "                                \n",
    "                                self.model.save_weights('best_model')\n",
    "                # print('**********************************************************')\n",
    "                                print('Loss decreased from: %.10f to: %.10f' % (best_so_far, loss))\n",
    "                \n",
    "#                 best_so_far = loss\n",
    "#                 mse_u1,mse_u2,mse_u3,mse_u4,mse_u5,mse_u6,mse_u7,mse_u8 =self.loss_stats()\n",
    "#                 loss_a_real.append(mse_u1.numpy())\n",
    "#                 loss_a_imag.append(mse_u2.numpy())\n",
    "#                 loss_b_real.append(mse_u3.numpy())\n",
    "#                 loss_b_imag.append(mse_u4.numpy())  \n",
    "                \n",
    "#                 loss_a_real_0.append(mse_u5.numpy())\n",
    "#                 loss_a_imag_0.append(mse_u6.numpy())\n",
    "#                 loss_b_real_0.append(mse_u7.numpy())\n",
    "#                 loss_b_imag_0.append(mse_u8.numpy())                  \n",
    "                \n",
    "                # print('Main loss')\n",
    "                # print('A_real : %.5f | A_Imag : %.5f' % (mse_u1.numpy(),mse_u2.numpy()))\n",
    "                # print('B_real : %.5f | B_Imag : %.5f' % (mse_u3.numpy(),mse_u4.numpy()))\n",
    "                # print('\\n')\n",
    "                # print('IC loss')\n",
    "                # print('A_real_0 : %.5f | A_Imag_0 : %.5f' % (mse_u5.numpy(),mse_u6.numpy()))\n",
    "                # print('B_real_0 : %.5f | B_Imag_0 : %.5f' % (mse_u7.numpy(),mse_u8.numpy()))\n",
    "                # print('\\n')\n",
    "            \n",
    "        \n",
    "\n",
    "            if epoch%epoch_print==0:\n",
    "                elapsed = time.time() - start_time\n",
    "                print('It: %d, Time: %.2f' % (epoch, elapsed))\n",
    "\n",
    "\n",
    "\n",
    "        self.model.load_weights('best_model')\n",
    "        loss_dict['total_loss']    = losses\n",
    "        \n",
    "        loss_dict['loss_a_real']   = loss_a_real\n",
    "        loss_dict['loss_a_real_0'] = loss_a_real_0\n",
    "        \n",
    "        loss_dict['loss_a_img']   = loss_a_imag\n",
    "        loss_dict['loss_a_img_0'] = loss_a_imag_0\n",
    "\n",
    "        loss_dict['loss_b_real']   = loss_b_real\n",
    "        loss_dict['loss_b_real_0'] = loss_b_real_0\n",
    "        \n",
    "        loss_dict['loss_b_img']   = loss_b_imag\n",
    "        loss_dict['loss_b_img_0'] = loss_b_imag_0        \n",
    "        \n",
    "        return loss_dict               "
   ]
  },
  {
   "cell_type": "code",
   "execution_count": 11,
   "id": "08c5fe44",
   "metadata": {},
   "outputs": [
    {
     "data": {
      "text/plain": [
       "<tf.Tensor: shape=(2000, 4), dtype=float32, numpy=\n",
       "array([[ 0.0000000e+00,  0.0000000e+00,  0.0000000e+00,  0.0000000e+00],\n",
       "       [ 7.0088677e-04,  2.4100170e-04, -1.7530963e-04,  3.1654679e-04],\n",
       "       [ 1.4009664e-03,  4.8270306e-04, -3.5011809e-04,  6.3292781e-04],\n",
       "       ...,\n",
       "       [ 1.0493156e+00,  1.3944002e+00, -7.0254952e-02,  3.1455648e-01],\n",
       "       [ 1.0493820e+00,  1.3938302e+00, -7.0177823e-02,  3.1459165e-01],\n",
       "       [ 1.0499622e+00,  1.3955178e+00, -7.0516139e-02,  3.1466407e-01]],\n",
       "      dtype=float32)>"
      ]
     },
     "execution_count": 11,
     "metadata": {},
     "output_type": "execute_result"
    }
   ],
   "source": [
    "z_hat(t)"
   ]
  },
  {
   "cell_type": "code",
   "execution_count": 12,
   "id": "eb04d7c3",
   "metadata": {},
   "outputs": [],
   "source": [
    "# Quasi Newton to improve the result\n",
    "shapes = tf.shape_n(z_hat.trainable_variables)\n",
    "length_shapes = len(shapes)\n",
    "count = 0\n",
    "idx = []\n",
    "part = []\n",
    "for i in range(length_shapes):\n",
    "    n = np.product(shapes[i])\n",
    "    idx.append(tf.reshape(tf.range(count, count+n, dtype=tf.int32),shapes[i]))\n",
    "    count += n   \n",
    "    part.extend([i]*n)\n",
    "\n",
    "    \n",
    "@tf.function    \n",
    "def update_weights(OneD):\n",
    "    params = tf.dynamic_partition(OneD, part, length_shapes)\n",
    "    for i, (shape, param) in enumerate(zip(shapes, params)):\n",
    "        z_hat.trainable_variables[i].assign(tf.reshape(param, shape))\n",
    "        \n",
    "\n",
    "@tf.function\n",
    "def flatten_the_parameters(weights):\n",
    "    return tf.dynamic_stitch(idx, weights) \n",
    "\n",
    "@tf.function\n",
    "def flat_jacobian(flat_weights,argument):\n",
    "#     z has four columns (a_r,a_i,b_r,b_i)=[0,1,2,3]\n",
    "    #update weights \n",
    "    update_weights(flat_weights)\n",
    "    with tf.GradientTape() as g:\n",
    "        y_hat = z_hat(t)[:,argument][:,tf.newaxis]\n",
    "         \n",
    "    grad = g.gradient(y_hat, z_hat.trainable_variables) \n",
    "    flattend_grad = flatten_the_parameters(grad)[:,tf.newaxis] #converts from multDim to 1D\n",
    "    return flattend_grad"
   ]
  },
  {
   "cell_type": "code",
   "execution_count": 13,
   "id": "36c60d06",
   "metadata": {},
   "outputs": [
    {
     "data": {
      "text/plain": [
       "<tf.Tensor: shape=(4,), dtype=float32, numpy=array([1., 0., 1., 0.], dtype=float32)>"
      ]
     },
     "execution_count": 13,
     "metadata": {},
     "output_type": "execute_result"
    }
   ],
   "source": [
    "optim = tf.keras.optimizers.Adam()\n",
    "epochs = 10000\n",
    "epoch_print =  100\n",
    "u10,v10,u20,v20 = 1.,0.,1.,0.\n",
    "\n",
    "z_init = tf.constant(np.array([u10,v10,u20,v20]), dtype=tf.float32)\n",
    "# New idea z = [x,y]\n",
    "z_init"
   ]
  },
  {
   "cell_type": "code",
   "execution_count": 14,
   "id": "b403390e",
   "metadata": {},
   "outputs": [],
   "source": [
    "pinn = PINN(t, z_hat,z_init,optim)"
   ]
  },
  {
   "cell_type": "code",
   "execution_count": 15,
   "id": "e21d73d2",
   "metadata": {},
   "outputs": [
    {
     "data": {
      "text/plain": [
       "<tf.Tensor: shape=(), dtype=float32, numpy=6.7789187>"
      ]
     },
     "execution_count": 15,
     "metadata": {},
     "output_type": "execute_result"
    }
   ],
   "source": [
    "pinn.train_and_update()"
   ]
  },
  {
   "cell_type": "code",
   "execution_count": 16,
   "id": "286ce88b",
   "metadata": {},
   "outputs": [
    {
     "name": "stdout",
     "output_type": "stream",
     "text": [
      "initial loss : 6.548300743103027\n"
     ]
    },
    {
     "data": {
      "application/vnd.jupyter.widget-view+json": {
       "model_id": "607bed46595f4e60afdcab711033075c",
       "version_major": 2,
       "version_minor": 0
      },
      "text/plain": [
       "  0%|          | 0/10000 [00:00<?, ?it/s]"
      ]
     },
     "metadata": {},
     "output_type": "display_data"
    },
    {
     "name": "stdout",
     "output_type": "stream",
     "text": [
      "Loss decreased from: 6.3310027122 to: 6.3310027122\n",
      "It: 0, Time: 0.71\n",
      "It: 100, Time: 0.01\n",
      "It: 200, Time: 0.01\n",
      "It: 300, Time: 0.01\n",
      "It: 400, Time: 0.01\n",
      "It: 500, Time: 0.01\n",
      "It: 600, Time: 0.01\n",
      "It: 700, Time: 0.01\n",
      "It: 800, Time: 0.01\n",
      "It: 900, Time: 0.01\n",
      "It: 1000, Time: 0.01\n",
      "It: 1100, Time: 0.01\n",
      "It: 1200, Time: 0.01\n",
      "It: 1300, Time: 0.01\n",
      "It: 1400, Time: 0.01\n",
      "Loss decreased from: 0.0077472585 to: 0.0077472585\n",
      "Loss decreased from: 0.0074612838 to: 0.0074612838\n",
      "It: 1500, Time: 0.01\n",
      "Loss decreased from: 0.0072155627 to: 0.0072155627\n",
      "Loss decreased from: 0.0071671512 to: 0.0071671512\n",
      "Loss decreased from: 0.0069505204 to: 0.0069505204\n",
      "Loss decreased from: 0.0068714372 to: 0.0068714372\n",
      "Loss decreased from: 0.0066986796 to: 0.0066986796\n",
      "Loss decreased from: 0.0066336915 to: 0.0066336915\n",
      "Loss decreased from: 0.0063573793 to: 0.0063573793\n",
      "It: 1600, Time: 0.01\n",
      "Loss decreased from: 0.0062590288 to: 0.0062590288\n",
      "Loss decreased from: 0.0058578979 to: 0.0058578979\n",
      "Loss decreased from: 0.0057909670 to: 0.0057909670\n",
      "Loss decreased from: 0.0054900651 to: 0.0054900651\n",
      "Loss decreased from: 0.0054439195 to: 0.0054439195\n",
      "Loss decreased from: 0.0053946963 to: 0.0053946963\n",
      "It: 1700, Time: 0.01\n",
      "Loss decreased from: 0.0051000635 to: 0.0051000635\n",
      "Loss decreased from: 0.0049618068 to: 0.0049618068\n",
      "Loss decreased from: 0.0047717039 to: 0.0047717039\n",
      "Loss decreased from: 0.0045597898 to: 0.0045597898\n",
      "Loss decreased from: 0.0045330925 to: 0.0045330925\n",
      "It: 1800, Time: 0.01\n",
      "Loss decreased from: 0.0044462783 to: 0.0044462783\n",
      "Loss decreased from: 0.0043005715 to: 0.0043005715\n",
      "Loss decreased from: 0.0041245711 to: 0.0041245711\n",
      "Loss decreased from: 0.0039510764 to: 0.0039510764\n",
      "Loss decreased from: 0.0038673894 to: 0.0038673894\n",
      "It: 1900, Time: 0.01\n",
      "Loss decreased from: 0.0036584975 to: 0.0036584975\n",
      "Loss decreased from: 0.0036403651 to: 0.0036403651\n",
      "Loss decreased from: 0.0033416690 to: 0.0033416690\n",
      "It: 2000, Time: 0.01\n",
      "Loss decreased from: 0.0030923767 to: 0.0030923767\n",
      "Loss decreased from: 0.0027707941 to: 0.0027707941\n",
      "It: 2100, Time: 0.01\n",
      "Loss decreased from: 0.0026287227 to: 0.0026287227\n",
      "Loss decreased from: 0.0024735082 to: 0.0024735082\n",
      "It: 2200, Time: 0.01\n",
      "Loss decreased from: 0.0022085174 to: 0.0022085174\n",
      "Loss decreased from: 0.0020206124 to: 0.0020206124\n",
      "It: 2300, Time: 0.01\n",
      "Loss decreased from: 0.0018997361 to: 0.0018997361\n",
      "Loss decreased from: 0.0016910117 to: 0.0016910117\n",
      "It: 2400, Time: 0.01\n",
      "Loss decreased from: 0.0015198316 to: 0.0015198316\n",
      "It: 2500, Time: 0.01\n",
      "Loss decreased from: 0.0012498408 to: 0.0012498408\n",
      "It: 2600, Time: 0.01\n",
      "Loss decreased from: 0.0010927818 to: 0.0010927818\n",
      "Loss decreased from: 0.0010261550 to: 0.0010261550\n",
      "It: 2700, Time: 0.01\n",
      "Loss decreased from: 0.0009351366 to: 0.0009351366\n",
      "Loss decreased from: 0.0008894039 to: 0.0008894039\n",
      "It: 2800, Time: 0.01\n",
      "It: 2900, Time: 0.01\n",
      "Loss decreased from: 0.0006552676 to: 0.0006552676\n",
      "It: 3000, Time: 0.01\n",
      "Loss decreased from: 0.0005786575 to: 0.0005786575\n",
      "It: 3100, Time: 0.01\n",
      "Loss decreased from: 0.0004495615 to: 0.0004495615\n",
      "It: 3200, Time: 0.01\n",
      "It: 3300, Time: 0.01\n",
      "It: 3400, Time: 0.01\n",
      "It: 3500, Time: 0.01\n",
      "It: 3600, Time: 0.01\n",
      "It: 3700, Time: 0.01\n",
      "Loss decreased from: 0.0001965744 to: 0.0001965744\n",
      "It: 3800, Time: 0.01\n",
      "It: 3900, Time: 0.01\n",
      "It: 4000, Time: 0.01\n",
      "It: 4100, Time: 0.01\n",
      "Loss decreased from: 0.0001317748 to: 0.0001317748\n",
      "It: 4200, Time: 0.01\n",
      "It: 4300, Time: 0.01\n",
      "It: 4400, Time: 0.01\n",
      "It: 4500, Time: 0.01\n",
      "It: 4600, Time: 0.01\n",
      "Loss decreased from: 0.0000929310 to: 0.0000929310\n",
      "It: 4700, Time: 0.01\n",
      "It: 4800, Time: 0.01\n",
      "It: 4900, Time: 0.01\n",
      "It: 5000, Time: 0.01\n",
      "Loss decreased from: 0.0000685594 to: 0.0000685594\n",
      "It: 5100, Time: 0.01\n",
      "It: 5200, Time: 0.01\n",
      "It: 5300, Time: 0.01\n",
      "It: 5400, Time: 0.01\n",
      "It: 5500, Time: 0.01\n",
      "It: 5600, Time: 0.01\n",
      "It: 5700, Time: 0.01\n",
      "It: 5800, Time: 0.01\n",
      "It: 5900, Time: 0.01\n",
      "It: 6000, Time: 0.01\n",
      "It: 6100, Time: 0.01\n",
      "It: 6200, Time: 0.01\n",
      "It: 6300, Time: 0.01\n",
      "It: 6400, Time: 0.01\n",
      "It: 6500, Time: 0.01\n",
      "It: 6600, Time: 0.01\n",
      "It: 6700, Time: 0.01\n",
      "It: 6800, Time: 0.01\n",
      "It: 6900, Time: 0.01\n",
      "It: 7000, Time: 0.01\n",
      "It: 7100, Time: 0.01\n",
      "It: 7200, Time: 0.01\n",
      "It: 7300, Time: 0.01\n",
      "It: 7400, Time: 0.01\n",
      "It: 7500, Time: 0.01\n",
      "It: 7600, Time: 0.01\n",
      "It: 7700, Time: 0.01\n",
      "It: 7800, Time: 0.01\n",
      "It: 7900, Time: 0.01\n",
      "It: 8000, Time: 0.01\n",
      "It: 8100, Time: 0.01\n",
      "It: 8200, Time: 0.01\n",
      "It: 8300, Time: 0.01\n",
      "It: 8400, Time: 0.01\n",
      "It: 8500, Time: 0.01\n",
      "It: 8600, Time: 0.01\n",
      "It: 8700, Time: 0.01\n",
      "It: 8800, Time: 0.01\n",
      "It: 8900, Time: 0.01\n",
      "It: 9000, Time: 0.01\n",
      "It: 9100, Time: 0.01\n",
      "It: 9200, Time: 0.01\n",
      "It: 9300, Time: 0.01\n",
      "It: 9400, Time: 0.01\n",
      "It: 9500, Time: 0.01\n",
      "It: 9600, Time: 0.01\n",
      "It: 9700, Time: 0.01\n",
      "It: 9800, Time: 0.01\n",
      "It: 9900, Time: 0.01\n"
     ]
    }
   ],
   "source": [
    "# batch_mode=False means without batches\n",
    "start = time.time()\n",
    "losss =  pinn.train(epochs,epoch_print);"
   ]
  },
  {
   "cell_type": "code",
   "execution_count": 17,
   "id": "d1652a54",
   "metadata": {},
   "outputs": [],
   "source": [
    "ANN_solution = z_hat(t)"
   ]
  },
  {
   "cell_type": "code",
   "execution_count": 18,
   "id": "3ba0f15e",
   "metadata": {},
   "outputs": [],
   "source": [
    "df = pd.DataFrame(losss)"
   ]
  },
  {
   "cell_type": "code",
   "execution_count": 19,
   "id": "e5d75a96",
   "metadata": {},
   "outputs": [],
   "source": [
    "df.to_csv('loss_df_article_pay.csv')"
   ]
  },
  {
   "cell_type": "code",
   "execution_count": 20,
   "id": "665a2096",
   "metadata": {},
   "outputs": [
    {
     "data": {
      "text/plain": [
       "Index(['total_loss', 'loss_a_real', 'loss_a_real_0', 'loss_a_img',\n",
       "       'loss_a_img_0', 'loss_b_real', 'loss_b_real_0', 'loss_b_img',\n",
       "       'loss_b_img_0'],\n",
       "      dtype='object')"
      ]
     },
     "execution_count": 20,
     "metadata": {},
     "output_type": "execute_result"
    }
   ],
   "source": [
    "df.columns"
   ]
  },
  {
   "cell_type": "code",
   "execution_count": 21,
   "id": "2423ef1f",
   "metadata": {},
   "outputs": [
    {
     "data": {
      "image/png": "[encoded data removed]",
      "text/plain": [
       "<Figure size 720x360 with 1 Axes>"
      ]
     },
     "metadata": {
      "needs_background": "light"
     },
     "output_type": "display_data"
    }
   ],
   "source": [
    "df[['total_loss','loss_a_real','loss_b_real']].plot(figsize=(10,5))\n",
    "plt.yscale('log')"
   ]
  },
  {
   "cell_type": "code",
   "execution_count": 22,
   "id": "27dc02bf",
   "metadata": {},
   "outputs": [
    {
     "data": {
      "text/plain": [
       "loss_a_real_0    0.140483\n",
       "loss_b_real_0    0.141625\n",
       "dtype: float32"
      ]
     },
     "execution_count": 22,
     "metadata": {},
     "output_type": "execute_result"
    }
   ],
   "source": [
    "df[['loss_a_real_0','loss_b_real_0']].std()"
   ]
  },
  {
   "cell_type": "code",
   "execution_count": 23,
   "id": "277c773a",
   "metadata": {},
   "outputs": [
    {
     "data": {
      "image/png": "[encoded data removed]",
      "text/plain": [
       "<Figure size 720x360 with 1 Axes>"
      ]
     },
     "metadata": {
      "needs_background": "light"
     },
     "output_type": "display_data"
    }
   ],
   "source": [
    "df[['loss_a_real_0','loss_b_real_0']].plot(figsize=(10,5))\n",
    "plt.yscale('log')"
   ]
  },
  {
   "cell_type": "code",
   "execution_count": 24,
   "id": "4c621f48",
   "metadata": {},
   "outputs": [
    {
     "data": {
      "text/plain": [
       "Text(0, 0.5, 'orders of magnitude')"
      ]
     },
     "execution_count": 24,
     "metadata": {},
     "output_type": "execute_result"
    },
    {
     "data": {
      "image/png": "[encoded data removed]",
      "text/plain": [
       "<Figure size 1080x720 with 1 Axes>"
      ]
     },
     "metadata": {
      "needs_background": "light"
     },
     "output_type": "display_data"
    }
   ],
   "source": [
    "df.plot(figsize=(15,10), title = 'All in one')\n",
    "plt.yscale('log')\n",
    "plt.xlabel('epochs')\n",
    "plt.ylabel('orders of magnitude')"
   ]
  },
  {
   "cell_type": "code",
   "execution_count": 25,
   "id": "c15315b7",
   "metadata": {},
   "outputs": [],
   "source": [
    "def fun(t,z):\n",
    "    k = 1.\n",
    "\n",
    "    z1 = z[0] + z[1]*1.j\n",
    "\n",
    "    z2 = z[2] + z[3]*1.j\n",
    "\n",
    "    dz1dt = -k*np.conj(z2)*1.j\n",
    "    dz2dt = -k*np.conj(z1)*1.j\n",
    "\n",
    "    dz1dt_real = np.real(dz1dt)\n",
    "    dz1dt_imag = np.imag(dz1dt)\n",
    "\n",
    "    dz2dt_real = np.real(dz2dt)\n",
    "    dz2dt_imag = np.imag(dz2dt)\n",
    "\n",
    "    return np.array([dz1dt_real,dz1dt_imag,dz2dt_real,dz2dt_imag])\n",
    "\n",
    "# Interval of integration\n",
    "\n",
    "t0,tf = t[0],t[-1]\n",
    "tspan = np.array([t0,tf])\n",
    "z0 = np.array([1.,0.,1.,0.]) \n",
    "teval = t.numpy().reshape(-1)\n",
    "\n",
    "\n",
    "sol_dic = solve_ivp(fun,   t_span=tspan, y0=z0,t_eval=teval) #default is rk45\n",
    "assert sol_dic.success == True\n",
    "\n",
    "sol = sol_dic.y.T   #make it such that solutions are columns not rows\n",
    "\n",
    "\n",
    "z1_real,z1_img,z2_real,z2_img = sol[:,0],sol[:,1],sol[:,2],sol[:,3]"
   ]
  },
  {
   "cell_type": "code",
   "execution_count": 26,
   "id": "cf939caf",
   "metadata": {},
   "outputs": [
    {
     "data": {
      "text/plain": [
       "((2000, 4), (2000, 4))"
      ]
     },
     "execution_count": 26,
     "metadata": {},
     "output_type": "execute_result"
    }
   ],
   "source": [
    "sol_dic.y.T.shape, ANN_solution.numpy().shape"
   ]
  },
  {
   "cell_type": "code",
   "execution_count": 27,
   "id": "6694841a",
   "metadata": {},
   "outputs": [
    {
     "data": {
      "image/png": "[encoded data removed]",
      "text/plain": [
       "<Figure size 432x288 with 1 Axes>"
      ]
     },
     "metadata": {
      "needs_background": "light"
     },
     "output_type": "display_data"
    },
    {
     "data": {
      "image/png": "[encoded data removed]",
      "text/plain": [
       "<Figure size 432x288 with 1 Axes>"
      ]
     },
     "metadata": {
      "needs_background": "light"
     },
     "output_type": "display_data"
    },
    {
     "data": {
      "image/png": "[encoded data removed]",
      "text/plain": [
       "<Figure size 432x288 with 1 Axes>"
      ]
     },
     "metadata": {
      "needs_background": "light"
     },
     "output_type": "display_data"
    },
    {
     "data": {
      "image/png": "[encoded data removed]",
      "text/plain": [
       "<Figure size 432x288 with 1 Axes>"
      ]
     },
     "metadata": {
      "needs_background": "light"
     },
     "output_type": "display_data"
    }
   ],
   "source": [
    "plt.plot(sol_dic.t,z1_real,label = 'rk45_z1_real' )\n",
    "plt.plot(sol_dic.t,ANN_solution.numpy()[:,0],label = 'PINN_z1_real' )\n",
    "plt.legend()\n",
    "plt.show()\n",
    "\n",
    "plt.plot(sol_dic.t,z1_img,label = 'rk45_z1_img' )\n",
    "plt.plot(sol_dic.t,ANN_solution.numpy()[:,1],label = 'PINN_z1_img' )\n",
    "plt.legend()\n",
    "plt.show()\n",
    "\n",
    "plt.plot(sol_dic.t,z2_real,label = 'rk45_z2_real' )\n",
    "plt.plot(sol_dic.t,ANN_solution.numpy()[:,2],label = 'PINN_z2_real' )\n",
    "plt.legend()\n",
    "plt.show()\n",
    "\n",
    "plt.plot(sol_dic.t,z2_img,label = 'rk45_z2_img' )\n",
    "plt.plot(sol_dic.t,ANN_solution.numpy()[:,3],label = 'PINN_z2_img' )\n",
    "plt.legend()\n",
    "plt.show()"
   ]
  },
  {
   "cell_type": "code",
   "execution_count": null,
   "id": "648bd188",
   "metadata": {},
   "outputs": [],
   "source": []
  }
 ],
 "metadata": {
  "kernelspec": {
   "display_name": "Python 3 (ipykernel)",
   "language": "python",
   "name": "python3"
  },
  "language_info": {
   "codemirror_mode": {
    "name": "ipython",
    "version": 3
   },
   "file_extension": ".py",
   "mimetype": "text/x-python",
   "name": "python",
   "nbconvert_exporter": "python",
   "pygments_lexer": "ipython3",
   "version": "3.8.13"
  }
 },
 "nbformat": 4,
 "nbformat_minor": 5
}
