{
 "cells": [
  {
   "cell_type": "code",
   "execution_count": 4,
   "id": "db26a529",
   "metadata": {},
   "outputs": [],
   "source": [
    "import numpy as np\n",
    "import tensorflow as tf\n",
    "import matplotlib.pyplot as plt\n",
    "from tqdm.notebook import tnrange\n",
    "import pygame,time "
   ]
  },
  {
   "cell_type": "code",
   "execution_count": 48,
   "id": "a38432b6",
   "metadata": {},
   "outputs": [],
   "source": [
    "neurons = 50\n",
    "M = neurons//2\n",
    "\n",
    "x = tf.cast(tf.linspace(0,1,M)[:,None], tf.float32)\n",
    "\n",
    "sigma = lambda x,alpha,beta : 1./(1.+ tf.math.exp(-alpha*x -beta ))\n",
    "\n",
    "value = int((neurons - 10)/10) + 4\n",
    "# value = 10.\n",
    "\n",
    "uniform_int_alpha = tf.initializers.RandomUniform(minval=-value, maxval=value,seed=1)\n",
    "uniform_int_beta = tf.initializers.RandomUniform(minval=-value, maxval=value,seed=2)\n",
    "\n",
    "\n",
    "alpha = uniform_int_alpha(shape=(neurons,))\n",
    "beta = uniform_int_beta(shape=(neurons,))\n",
    "\n",
    "C = -beta/alpha"
   ]
  },
  {
   "cell_type": "code",
   "execution_count": 49,
   "id": "14577d9a",
   "metadata": {},
   "outputs": [
    {
     "data": {
      "application/vnd.jupyter.widget-view+json": {
       "model_id": "41563181b6914723bbfde084ac03c58b",
       "version_major": 2,
       "version_minor": 0
      },
      "text/plain": [
       "  0%|          | 0/50 [00:00<?, ?it/s]"
      ]
     },
     "metadata": {},
     "output_type": "display_data"
    }
   ],
   "source": [
    "good_alpha = []\n",
    "good_beta = []\n",
    "C_good = []\n",
    "counter = 0\n",
    "for i in tnrange(len(alpha)):\n",
    "    value = (2.945)/alpha[i]\n",
    "    low = C[i] - value\n",
    "    high = C[i] + value\n",
    "    \n",
    "#     distance_I = tf.norm(tf.constant(np.array([low,high]), tf.float32))\n",
    "#     distance_x = tf.norm(tf.constant(np.array([x[0],x[-1]]), tf.float32))\n",
    "    \n",
    "#     isclose = np.isclose(distance_I, distance_x)\n",
    "#     if distance_I < distance_x or isclose:\n",
    "#     if low > 0 and high > 0:\n",
    "#     if low > 0 and high > 0:\n",
    "\n",
    "#     if (low >= x[0] and high > x[0]):\n",
    "#         if x[0]<low and x[-1]> high: \n",
    "#             if alpha[i]>0.0:\n",
    "# #                 counter += 1\n",
    "#                 print('counter',i)\n",
    "#                 print(f'{x[0]} < {low}')\n",
    "#                 print(f'{x[-1]} > {high}')\n",
    "    good_alpha.append(alpha[i])\n",
    "    good_beta.append(beta[i])\n",
    "    C_good.append(C[i])     \n",
    "#     print(f'sigma :{sigma(x,alpha[i], beta[i])[-1]}')\n",
    "#     print(f'Distance I.:{distance_I}')\n",
    "#     print(f'Distance x.:{distance_x}')\n",
    "#     print(f'Is close :{np.isclose(sigma(C[i],alpha[i], beta[i]),0.5)}')\n",
    "#     print(f'high value:{high}')\n",
    "#     plt.plot(x,sigma(x,alpha[i], beta[i]))\n",
    "#     plt.hlines(y = sigma(C[i],alpha[i], beta[i]),xmin= low, xmax=high, colors='red', linestyles='-')\n",
    "#     plt.vlines(x = C[i], ymin=0.04, ymax= 1.,colors='b', linestyles='-')\n",
    "#     plt.vlines(x = low, ymin=0.04, ymax= 1.,colors='g', linestyles='--')\n",
    "#     plt.vlines(x = high, ymin=0.04, ymax= 1.,colors='g', linestyles='--')        \n",
    "\n",
    "#     plt.title(f' i :{i}  C:{C[i]} a :{alpha[i]} b {beta[i]}')\n",
    "#     plt.show()"
   ]
  },
  {
   "cell_type": "code",
   "execution_count": 50,
   "id": "a05bce49",
   "metadata": {},
   "outputs": [],
   "source": [
    "def S_matrices(x_m_minus_2,alpha,beta):\n",
    "    with tf.autodiff.ForwardAccumulator(primals=x_m_minus_2,tangents=tf.ones_like(x_m_minus_2)) as outer:\n",
    "        with tf.autodiff.ForwardAccumulator(primals=x_m_minus_2,tangents=tf.ones_like(x_m_minus_2)) as inner:\n",
    "            S0 = sigma(x_m_minus_2,alpha,beta )\n",
    "        S1 = inner.jvp(S0)\n",
    "    S2 = outer.jvp(S1)  \n",
    "    return S0,S1,S2\n",
    "\n",
    "\n",
    "def B_matrices(init_array,alpha,beta):\n",
    "#     xk = tf.constant(init_array,dtype=tf.float32)\n",
    "    xk = init_array\n",
    "    with tf.autodiff.ForwardAccumulator(primals=xk,tangents=tf.ones_like(xk)) as tape:\n",
    "        B0 = sigma(xk,alpha,beta )\n",
    "    B1 = tape.jvp(B0)\n",
    "    return B0,B1"
   ]
  },
  {
   "cell_type": "code",
   "execution_count": 51,
   "id": "63e1e158",
   "metadata": {},
   "outputs": [
    {
     "data": {
      "text/plain": [
       "(50, 25)"
      ]
     },
     "execution_count": 51,
     "metadata": {},
     "output_type": "execute_result"
    }
   ],
   "source": [
    "# neurons = counter\n",
    "# M = neurons//2\n",
    "neurons,M"
   ]
  },
  {
   "cell_type": "code",
   "execution_count": 52,
   "id": "8c5017a0",
   "metadata": {},
   "outputs": [],
   "source": [
    "def test(C_good):\n",
    "    best_error = np.inf\n",
    "    for C in C_good:\n",
    "        beta = -C*alpha\n",
    "        x_m_minus_2 = tf.linspace(x[1],x[-2],M-2)\n",
    "        k = 1.\n",
    "        S0,S1,S2 = S_matrices(x_m_minus_2,alpha,beta)\n",
    "        int_array = tf.concat([x[0],x[-1]],axis=0)[:,None]\n",
    "        B0,B1 = B_matrices(int_array,alpha,beta)\n",
    "\n",
    "        fg = np.zeros((M,1))\n",
    "        SB_matrix = np.zeros((M,neurons))\n",
    "        lhs_eqn = S2 + (4.*tf.pow(k*np.pi,2) - 1.)*S0\n",
    "        rhs_eqn = 4.*k*np.pi*tf.math.exp(x_m_minus_2)*tf.math.cos(2.*k*np.pi*x_m_minus_2)\n",
    "\n",
    "        lhs_BC =  B0\n",
    "        rhs_BC =  tf.zeros((2,1))\n",
    "        # \n",
    "\n",
    "        # First row == B0[0]\n",
    "        SB_matrix[0] = lhs_BC[0]\n",
    "        # Last row == B0[-1]\n",
    "        SB_matrix[-1] = lhs_BC[-1]\n",
    "        # inbetween == rhs_eqn\n",
    "        SB_matrix[1:-1] = lhs_eqn\n",
    "\n",
    "        # FG matrix\n",
    "        # First row == B0[0]\n",
    "        fg[0] = rhs_BC[0]\n",
    "        # Last row == B0[-1]\n",
    "        fg[-1] = rhs_BC[-1]\n",
    "        # inbetween == rhs_eqn\n",
    "        fg[1:-1] = rhs_eqn\n",
    "\n",
    "        weight = tf.linalg.pinv(SB_matrix)@fg\n",
    "        weight = tf.cast(weight, tf.float32)\n",
    "        u_hat = sigma(x, alpha, beta)@weight\n",
    "        u = lambda x: tf.math.exp(x)*tf.math.sin(2.*k*np.pi*x)\n",
    "        error = tf.norm(u_hat- u(x))\n",
    "        residue = SB_matrix@weight - fg\n",
    "        res_nrom = tf.norm(residue)\n",
    "        res_mse = tf.reduce_mean(tf.square(residue))\n",
    "        if error < best_error:\n",
    "            if C>0:\n",
    "                print(f'Residue Norm  : {res_nrom}')\n",
    "                print(f'Residue mse  : {res_mse}')\n",
    "                print(f'Error : {tf.norm(error)}') \n",
    "                best_error = error\n",
    "                C_best = C\n",
    "                print(f'C     : {C}\\n')  \n",
    "                \n",
    "    return C_best       "
   ]
  },
  {
   "cell_type": "code",
   "execution_count": 53,
   "id": "4a681012",
   "metadata": {},
   "outputs": [
    {
     "name": "stdout",
     "output_type": "stream",
     "text": [
      "Residue Norm  : 62.94590377807617\n",
      "Residue mse  : 158.4874725341797\n",
      "Error : 3.4153964519500732\n",
      "C     : 5.115394115447998\n",
      "\n",
      "Residue Norm  : 4.783527851104736\n",
      "Residue mse  : 0.9152854681015015\n",
      "Error : 0.23516975343227386\n",
      "C     : 1.9981719255447388\n",
      "\n",
      "Residue Norm  : 0.639896035194397\n",
      "Residue mse  : 0.016378678381443024\n",
      "Error : 0.07130920141935349\n",
      "C     : 1.332850694656372\n",
      "\n",
      "Residue Norm  : 0.14930111169815063\n",
      "Residue mse  : 0.000891632866114378\n",
      "Error : 0.025543341413140297\n",
      "C     : 1.0958292484283447\n",
      "\n"
     ]
    },
    {
     "name": "stderr",
     "output_type": "stream",
     "text": [
      "2023-02-03 13:32:58.185064: E ./tensorflow/core/kernels/linalg/svd_op_impl.h:110] Eigen::BDCSVD failed with error code 3\n",
      "2023-02-03 13:32:58.195554: E ./tensorflow/core/kernels/linalg/svd_op_impl.h:110] Eigen::BDCSVD failed with error code 3\n",
      "2023-02-03 13:32:58.347954: E ./tensorflow/core/kernels/linalg/svd_op_impl.h:110] Eigen::BDCSVD failed with error code 3\n",
      "2023-02-03 13:32:58.391127: E ./tensorflow/core/kernels/linalg/svd_op_impl.h:110] Eigen::BDCSVD failed with error code 3\n"
     ]
    },
    {
     "name": "stdout",
     "output_type": "stream",
     "text": [
      "Residue Norm  : 0.14930111169815063\n",
      "Residue mse  : 0.000891632866114378\n",
      "Error : 0.025543341413140297\n",
      "mse Error  : 2.6098492526216432e-05\n"
     ]
    },
    {
     "data": {
      "image/png": "[encoded data removed]",
      "text/plain": [
       "<Figure size 432x288 with 1 Axes>"
      ]
     },
     "metadata": {
      "needs_background": "light"
     },
     "output_type": "display_data"
    }
   ],
   "source": [
    "C_best = test(C_good)\n",
    "beta = -C_best*alpha\n",
    "x_m_minus_2 = tf.linspace(x[1],x[-2],M-2)\n",
    "k = 1.\n",
    "S0,S1,S2 = S_matrices(x_m_minus_2,alpha,beta)\n",
    "int_array = tf.concat([x[0],x[-1]],axis=0)[:,None]\n",
    "B0,B1 = B_matrices(int_array,alpha,beta)\n",
    "\n",
    "fg = np.zeros((M,1))\n",
    "SB_matrix = np.zeros((M,neurons))\n",
    "lhs_eqn = S2 + (4.*tf.pow(k*np.pi,2) - 1.)*S0\n",
    "rhs_eqn = 4.*k*np.pi*tf.math.exp(x_m_minus_2)*tf.math.cos(2.*k*np.pi*x_m_minus_2)\n",
    "\n",
    "lhs_BC =  B0\n",
    "rhs_BC =  tf.zeros((2,1))\n",
    "# \n",
    "\n",
    "# First row == B0[0]\n",
    "SB_matrix[0] = lhs_BC[0]\n",
    "# Last row == B0[-1]\n",
    "SB_matrix[-1] = lhs_BC[-1]\n",
    "# inbetween == rhs_eqn\n",
    "SB_matrix[1:-1] = lhs_eqn\n",
    "\n",
    "# FG matrix\n",
    "# First row == B0[0]\n",
    "fg[0] = rhs_BC[0]\n",
    "# Last row == B0[-1]\n",
    "fg[-1] = rhs_BC[-1]\n",
    "# inbetween == rhs_eqn\n",
    "fg[1:-1] = rhs_eqn\n",
    "\n",
    "weight = tf.linalg.pinv(SB_matrix)@fg\n",
    "weight = tf.cast(weight, tf.float32)\n",
    "u_hat = sigma(x, alpha, beta)@weight\n",
    "u = lambda x: tf.math.exp(x)*tf.math.sin(2.*k*np.pi*x)\n",
    "error = tf.norm(u_hat- u(x))\n",
    "mse = tf.reduce_mean(tf.square(u_hat- u(x)))\n",
    "residue = SB_matrix@weight - fg\n",
    "res_nrom = tf.norm(residue)\n",
    "res_mse = tf.reduce_mean(tf.square(residue))\n",
    "print(f'Residue Norm  : {res_nrom}')\n",
    "print(f'Residue mse  : {res_mse}')\n",
    "print(f'Error : {tf.norm(error)}') \n",
    "print(f'mse Error  : {mse}')\n",
    "plt.plot(x,u(x))\n",
    "plt.plot(x,u_hat, 'r--')\n",
    "plt.show()              \n",
    "                "
   ]
  },
  {
   "cell_type": "code",
   "execution_count": 42,
   "id": "12b0e0d5",
   "metadata": {},
   "outputs": [
    {
     "data": {
      "text/plain": [
       "((2, 1), (2, 4))"
      ]
     },
     "execution_count": 42,
     "metadata": {},
     "output_type": "execute_result"
    }
   ],
   "source": [
    "fg.shape,SB_matrix.shape"
   ]
  },
  {
   "cell_type": "code",
   "execution_count": 43,
   "id": "2298547d",
   "metadata": {},
   "outputs": [
    {
     "data": {
      "text/plain": [
       "<tf.Tensor: shape=(4, 2), dtype=float64, numpy=\n",
       "array([[ 16.14932338,   0.12337641],\n",
       "       [ 43.40875412,  -0.09734484],\n",
       "       [-29.44526512,   0.48869309],\n",
       "       [-31.1011581 ,   0.50230512]])>"
      ]
     },
     "execution_count": 43,
     "metadata": {},
     "output_type": "execute_result"
    }
   ],
   "source": [
    "tf.linalg.pinv(SB_matrix)"
   ]
  },
  {
   "cell_type": "code",
   "execution_count": 67,
   "id": "db218697",
   "metadata": {},
   "outputs": [
    {
     "data": {
      "image/png": "[encoded data removed]",
      "text/plain": [
       "<Figure size 432x288 with 1 Axes>"
      ]
     },
     "metadata": {
      "needs_background": "light"
     },
     "output_type": "display_data"
    }
   ],
   "source": []
  },
  {
   "cell_type": "code",
   "execution_count": 65,
   "id": "55118fe3",
   "metadata": {},
   "outputs": [
    {
     "data": {
      "text/plain": [
       "(20, 41)"
      ]
     },
     "execution_count": 65,
     "metadata": {},
     "output_type": "execute_result"
    }
   ],
   "source": [
    "new_SB = np.zeros(shape = (M,neurons))\n",
    "new_SB.shape"
   ]
  },
  {
   "cell_type": "code",
   "execution_count": null,
   "id": "794a54b5",
   "metadata": {},
   "outputs": [],
   "source": [
    "r,c = new_SB.shape[0],new_SB.shape[1]\n",
    "for row in range(r):\n",
    "    if row == 0:\n",
    "        new_SB[row] = lhs_BC[row]\n",
    "    elif row == new_SB.shape[0] - 1:  \n",
    "        new_SB[row] = lhs_BC[-1]"
   ]
  },
  {
   "cell_type": "code",
   "execution_count": 428,
   "id": "b4f5b8e5",
   "metadata": {},
   "outputs": [
    {
     "data": {
      "text/plain": [
       "(100,)"
      ]
     },
     "execution_count": 428,
     "metadata": {},
     "output_type": "execute_result"
    }
   ],
   "source": [
    "new_SB[0].shape"
   ]
  },
  {
   "cell_type": "code",
   "execution_count": 429,
   "id": "a5f44259",
   "metadata": {},
   "outputs": [
    {
     "data": {
      "text/plain": [
       "TensorShape([100])"
      ]
     },
     "execution_count": 429,
     "metadata": {},
     "output_type": "execute_result"
    }
   ],
   "source": [
    "lhs_BC[0].shape"
   ]
  },
  {
   "cell_type": "code",
   "execution_count": 431,
   "id": "67efd27d",
   "metadata": {},
   "outputs": [],
   "source": [
    "new_SB[0] = lhs_BC[0]\n",
    "new_SB[-1]= lhs_BC[-1]"
   ]
  },
  {
   "cell_type": "code",
   "execution_count": 445,
   "id": "2760237d",
   "metadata": {},
   "outputs": [
    {
     "data": {
      "text/plain": [
       "<tf.Tensor: shape=(), dtype=bool, numpy=True>"
      ]
     },
     "execution_count": 445,
     "metadata": {},
     "output_type": "execute_result"
    }
   ],
   "source": [
    "tf.reduce_all(new_SB[1:-1] == lhs_eqn)"
   ]
  },
  {
   "cell_type": "code",
   "execution_count": 412,
   "id": "77f17e4f",
   "metadata": {},
   "outputs": [
    {
     "data": {
      "text/plain": [
       "<tf.Tensor: shape=(50, 100), dtype=float32, numpy=\n",
       "array([[1.1737227e+00, 2.3880198e+01, 9.2181482e+00, ..., 1.1251283e+00,\n",
       "        3.0336025e+00, 2.8613085e+01],\n",
       "       [1.4259485e+00, 2.3689878e+01, 9.5743074e+00, ..., 1.3709230e+00,\n",
       "        3.4274979e+00, 2.8272150e+01],\n",
       "       [1.7300310e+00, 2.3498653e+01, 9.9387808e+00, ..., 1.6682122e+00,\n",
       "        3.8648982e+00, 2.7924314e+01],\n",
       "       ...,\n",
       "       [3.7304699e+01, 1.4598227e+01, 2.9260271e+01, ..., 3.7353287e+01,\n",
       "        3.5444817e+01, 9.8653326e+00],\n",
       "       [7.2437488e-03, 6.2720788e-01, 2.1352848e-01, ..., 6.7874691e-03,\n",
       "        3.4010451e-02, 7.6627004e-01],\n",
       "       [9.9275631e-01, 3.7279215e-01, 7.8647149e-01, ..., 9.9321246e-01,\n",
       "        9.6598959e-01, 2.3372991e-01]], dtype=float32)>"
      ]
     },
     "execution_count": 412,
     "metadata": {},
     "output_type": "execute_result"
    }
   ],
   "source": [
    "LHS"
   ]
  },
  {
   "cell_type": "code",
   "execution_count": 404,
   "id": "55d9acdb",
   "metadata": {},
   "outputs": [
    {
     "data": {
      "text/plain": [
       "TensorShape([50, 100])"
      ]
     },
     "execution_count": 404,
     "metadata": {},
     "output_type": "execute_result"
    }
   ],
   "source": [
    "LHS = tf.concat([lhs_eqn,lhs_BC],axis = 0)\n",
    "LHS.shape"
   ]
  },
  {
   "cell_type": "code",
   "execution_count": 397,
   "id": "858b7ae7",
   "metadata": {},
   "outputs": [
    {
     "data": {
      "text/plain": [
       "TensorShape([4, 100])"
      ]
     },
     "execution_count": 397,
     "metadata": {},
     "output_type": "execute_result"
    }
   ],
   "source": [
    "RHS = tf.concat([lhs_BC, rhs],axis = 0)\n",
    "RHS.shape"
   ]
  },
  {
   "cell_type": "code",
   "execution_count": 400,
   "id": "9e72dd19",
   "metadata": {},
   "outputs": [
    {
     "data": {
      "text/plain": [
       "<tf.Tensor: shape=(4, 100), dtype=float32, numpy=\n",
       "array([[0.00724375, 0.6272079 , 0.21352848, 0.801585  , 0.96115243,\n",
       "        0.67351145, 0.88514954, 0.02674913, 0.9973042 , 0.01589064,\n",
       "        0.9984901 , 0.5659067 , 0.510195  , 0.97246516, 0.00421547,\n",
       "        0.8130133 , 0.9935762 , 0.90384364, 0.9975593 , 0.8539658 ,\n",
       "        0.74346155, 0.8845339 , 0.1514901 , 0.6545472 , 0.5791359 ,\n",
       "        0.09567159, 0.4627746 , 0.85872096, 0.4624861 , 0.18535994,\n",
       "        0.52597934, 0.05640417, 0.02253815, 0.9945591 , 0.13838366,\n",
       "        0.0120892 , 0.9903025 , 0.9979346 , 0.03362466, 0.8409074 ,\n",
       "        0.00388385, 0.03618183, 0.02783983, 0.7500773 , 0.9461747 ,\n",
       "        0.00195814, 0.00395232, 0.03520233, 0.23388794, 0.00229428,\n",
       "        0.08415455, 0.00340514, 0.93978983, 0.0305384 , 0.12039144,\n",
       "        0.99599874, 0.79859173, 0.6034649 , 0.00315262, 0.98919934,\n",
       "        0.28998542, 0.92572224, 0.00160515, 0.09033588, 0.11669607,\n",
       "        0.9413936 , 0.39743632, 0.00396757, 0.22520904, 0.01728561,\n",
       "        0.00752859, 0.02492664, 0.9449426 , 0.01996568, 0.13438627,\n",
       "        0.7604265 , 0.9402785 , 0.06956637, 0.9917823 , 0.0529535 ,\n",
       "        0.01683647, 0.60874885, 0.9973339 , 0.99762267, 0.18797532,\n",
       "        0.97780263, 0.00388319, 0.37911412, 0.96753526, 0.32715303,\n",
       "        0.26198325, 0.7480934 , 0.80097777, 0.64558595, 0.2910385 ,\n",
       "        0.93894166, 0.9624142 , 0.00678747, 0.03401045, 0.76627004],\n",
       "       [0.9927563 , 0.37279215, 0.7864715 , 0.19841501, 0.03884757,\n",
       "        0.32648855, 0.11485046, 0.97325087, 0.00269577, 0.98410934,\n",
       "        0.00150987, 0.43409333, 0.48980498, 0.02753487, 0.99578446,\n",
       "        0.18698664, 0.00642383, 0.09615637, 0.00244064, 0.14603414,\n",
       "        0.25653848, 0.11546612, 0.8485099 , 0.3454528 , 0.4208641 ,\n",
       "        0.9043284 , 0.53722537, 0.14127904, 0.5375139 , 0.8146401 ,\n",
       "        0.47402066, 0.94359577, 0.9774619 , 0.00544085, 0.8616164 ,\n",
       "        0.98791075, 0.00969748, 0.00206538, 0.9663754 , 0.15909259,\n",
       "        0.99611616, 0.9638182 , 0.9721602 , 0.24992266, 0.05382534,\n",
       "        0.99804187, 0.9960477 , 0.9647977 , 0.766112  , 0.99770576,\n",
       "        0.9158455 , 0.99659485, 0.06021019, 0.9694616 , 0.8796086 ,\n",
       "        0.00400128, 0.20140828, 0.3965351 , 0.99684733, 0.01080064,\n",
       "        0.7100146 , 0.07427777, 0.9983948 , 0.90966415, 0.8833039 ,\n",
       "        0.05860635, 0.6025637 , 0.9960324 , 0.77479094, 0.98271435,\n",
       "        0.99247146, 0.9750734 , 0.05505744, 0.98003435, 0.8656137 ,\n",
       "        0.23957348, 0.05972153, 0.93043363, 0.00821772, 0.94704646,\n",
       "        0.98316354, 0.39125112, 0.00266619, 0.0023773 , 0.8120247 ,\n",
       "        0.02219737, 0.99611676, 0.6208859 , 0.03246481, 0.672847  ,\n",
       "        0.7380168 , 0.2519066 , 0.19902225, 0.35441408, 0.7089615 ,\n",
       "        0.06105836, 0.0375858 , 0.99321246, 0.9659896 , 0.23372991],\n",
       "       [0.        , 0.        , 0.        , 0.        , 0.        ,\n",
       "        0.        , 0.        , 0.        , 0.        , 0.        ,\n",
       "        0.        , 0.        , 0.        , 0.        , 0.        ,\n",
       "        0.        , 0.        , 0.        , 0.        , 0.        ,\n",
       "        0.        , 0.        , 0.        , 0.        , 0.        ,\n",
       "        0.        , 0.        , 0.        , 0.        , 0.        ,\n",
       "        0.        , 0.        , 0.        , 0.        , 0.        ,\n",
       "        0.        , 0.        , 0.        , 0.        , 0.        ,\n",
       "        0.        , 0.        , 0.        , 0.        , 0.        ,\n",
       "        0.        , 0.        , 0.        , 0.        , 0.        ,\n",
       "        0.        , 0.        , 0.        , 0.        , 0.        ,\n",
       "        0.        , 0.        , 0.        , 0.        , 0.        ,\n",
       "        0.        , 0.        , 0.        , 0.        , 0.        ,\n",
       "        0.        , 0.        , 0.        , 0.        , 0.        ,\n",
       "        0.        , 0.        , 0.        , 0.        , 0.        ,\n",
       "        0.        , 0.        , 0.        , 0.        , 0.        ,\n",
       "        0.        , 0.        , 0.        , 0.        , 0.        ,\n",
       "        0.        , 0.        , 0.        , 0.        , 0.        ,\n",
       "        0.        , 0.        , 0.        , 0.        , 0.        ,\n",
       "        0.        , 0.        , 0.        , 0.        , 0.        ],\n",
       "       [0.        , 0.        , 0.        , 0.        , 0.        ,\n",
       "        0.        , 0.        , 0.        , 0.        , 0.        ,\n",
       "        0.        , 0.        , 0.        , 0.        , 0.        ,\n",
       "        0.        , 0.        , 0.        , 0.        , 0.        ,\n",
       "        0.        , 0.        , 0.        , 0.        , 0.        ,\n",
       "        0.        , 0.        , 0.        , 0.        , 0.        ,\n",
       "        0.        , 0.        , 0.        , 0.        , 0.        ,\n",
       "        0.        , 0.        , 0.        , 0.        , 0.        ,\n",
       "        0.        , 0.        , 0.        , 0.        , 0.        ,\n",
       "        0.        , 0.        , 0.        , 0.        , 0.        ,\n",
       "        0.        , 0.        , 0.        , 0.        , 0.        ,\n",
       "        0.        , 0.        , 0.        , 0.        , 0.        ,\n",
       "        0.        , 0.        , 0.        , 0.        , 0.        ,\n",
       "        0.        , 0.        , 0.        , 0.        , 0.        ,\n",
       "        0.        , 0.        , 0.        , 0.        , 0.        ,\n",
       "        0.        , 0.        , 0.        , 0.        , 0.        ,\n",
       "        0.        , 0.        , 0.        , 0.        , 0.        ,\n",
       "        0.        , 0.        , 0.        , 0.        , 0.        ,\n",
       "        0.        , 0.        , 0.        , 0.        , 0.        ,\n",
       "        0.        , 0.        , 0.        , 0.        , 0.        ]],\n",
       "      dtype=float32)>"
      ]
     },
     "execution_count": 400,
     "metadata": {},
     "output_type": "execute_result"
    }
   ],
   "source": [
    "RHS"
   ]
  },
  {
   "cell_type": "code",
   "execution_count": null,
   "id": "dbe41d59",
   "metadata": {},
   "outputs": [],
   "source": []
  },
  {
   "cell_type": "code",
   "execution_count": 81,
   "id": "b7767bea",
   "metadata": {},
   "outputs": [
    {
     "data": {
      "text/plain": [
       "<matplotlib.collections.LineCollection at 0x7fbd04670d30>"
      ]
     },
     "execution_count": 81,
     "metadata": {},
     "output_type": "execute_result"
    },
    {
     "data": {
      "image/png": "[encoded data removed]",
      "text/plain": [
       "<Figure size 432x288 with 1 Axes>"
      ]
     },
     "metadata": {
      "needs_background": "light"
     },
     "output_type": "display_data"
    }
   ],
   "source": [
    "sigma = lambda x,alpha,beta : 1./(1.+ tf.math.exp(-alpha*x -beta ))\n",
    "alpha = 100.\n",
    "beta = -80.\n",
    "# plt.plot(x,sigma( x,alpha,beta),'o' )\n",
    "# plt.vlines(x= - beta/alpha, ymin=0.0, ymax=1., colors='r' )\n",
    "\n",
    "alpha = 1.\n",
    "beta = -0.5\n",
    "plt.plot(x,sigma( x,alpha,beta),'g' )\n",
    "plt.vlines(x= - beta/alpha, ymin=0.0, ymax=1., colors='b' )"
   ]
  },
  {
   "cell_type": "code",
   "execution_count": 82,
   "id": "a95cace3",
   "metadata": {},
   "outputs": [],
   "source": [
    "with tf.GradientTape() as tape1:\n",
    "    tape1.watch(x)\n",
    "    with tf.GradientTape() as tape2:\n",
    "        tape2.watch(x)\n",
    "        sigma = sigma( x,alpha,beta)\n",
    "    sigma_x = tape2.gradient(sigma,x)\n",
    "sigma_xx = tape1.gradient(sigma_x,x)"
   ]
  },
  {
   "cell_type": "code",
   "execution_count": 83,
   "id": "c80c00ca",
   "metadata": {},
   "outputs": [
    {
     "data": {
      "text/plain": [
       "<matplotlib.collections.LineCollection at 0x7fbd045fb700>"
      ]
     },
     "execution_count": 83,
     "metadata": {},
     "output_type": "execute_result"
    },
    {
     "data": {
      "image/png": "[encoded data removed]",
      "text/plain": [
       "<Figure size 432x288 with 1 Axes>"
      ]
     },
     "metadata": {
      "needs_background": "light"
     },
     "output_type": "display_data"
    }
   ],
   "source": [
    "# plt.plot(x,sigma)\n",
    "plt.plot(x,sigma_xx)\n",
    "plt.vlines(x= - beta/alpha, ymin=-0.1, ymax=.6, colors='b' )\n",
    "plt.hlines(y = 0.0, xmin=0.0, xmax=1.,colors = 'red')"
   ]
  },
  {
   "cell_type": "code",
   "execution_count": 143,
   "id": "6f13dfc9",
   "metadata": {},
   "outputs": [
    {
     "data": {
      "text/plain": [
       "<tf.Tensor: shape=(50,), dtype=float32, numpy=\n",
       "array([ 6.055811  , -0.640316  ,  1.60466   , -1.7184372 , -3.9489079 ,\n",
       "       -0.89121246, -2.5133858 ,  4.4235573 , -7.277996  ,  5.078163  ,\n",
       "       -7.9928875 , -0.3263626 , -0.0501976 , -4.3869305 ,  6.72587   ,\n",
       "       -1.8088741 , -6.204672  , -2.757761  , -7.4006805 , -2.1736012 ,\n",
       "       -1.3095856 , -2.505949  ,  2.1205673 , -0.7865696 , -0.39289474,\n",
       "        2.7646408 ,  0.18360329, -2.221178  ,  0.18503189,  1.8220882 ,\n",
       "       -0.12801361,  3.467268  ,  4.6396923 , -6.4102936 ,  2.2508068 ,\n",
       "        5.419422  , -5.693716  , -7.606613  ,  4.1332836 , -2.0492249 ,\n",
       "        6.8271236 ,  4.03981   ,  4.3729877 , -1.3526459 , -3.528225  ,\n",
       "        7.672367  ,  6.8055286 ,  4.0748386 ,  1.4602909 ,  7.4769707 ],\n",
       "      dtype=float32)>"
      ]
     },
     "execution_count": 143,
     "metadata": {},
     "output_type": "execute_result"
    }
   ],
   "source": []
  },
  {
   "cell_type": "code",
   "execution_count": 97,
   "id": "1531cee1",
   "metadata": {},
   "outputs": [
    {
     "data": {
      "text/plain": [
       "(<tf.Tensor: shape=(), dtype=float32, numpy=-0.48630977>,\n",
       " <tf.Tensor: shape=(), dtype=float32, numpy=0.48630977>)"
      ]
     },
     "execution_count": 97,
     "metadata": {},
     "output_type": "execute_result"
    }
   ],
   "source": [
    "-2.945/alpha_i, 2.945/alpha_i"
   ]
  },
  {
   "cell_type": "code",
   "execution_count": 112,
   "id": "79df9498",
   "metadata": {},
   "outputs": [
    {
     "data": {
      "text/plain": [
       "<tf.Tensor: shape=(50,), dtype=float32, numpy=\n",
       "array([0.7337417 , 0.7376016 , 0.74142516, 0.74521226, 0.7489627 ,\n",
       "       0.7526763 , 0.7563527 , 0.75999206, 0.7635939 , 0.7671583 ,\n",
       "       0.77068514, 0.77417433, 0.7776257 , 0.7810391 , 0.78441477,\n",
       "       0.78775245, 0.79105234, 0.79431427, 0.7975383 , 0.80072445,\n",
       "       0.8038728 , 0.8069835 , 0.8100564 , 0.8130917 , 0.8160896 ,\n",
       "       0.81905   , 0.82197326, 0.8248593 , 0.8277084 , 0.83052075,\n",
       "       0.83329636, 0.8360355 , 0.8387383 , 0.84140503, 0.84403586,\n",
       "       0.84663105, 0.8491907 , 0.85171515, 0.8542046 , 0.8566593 ,\n",
       "       0.8590795 , 0.8614654 , 0.86381733, 0.86613554, 0.8684203 ,\n",
       "       0.87067187, 0.87289053, 0.8750767 , 0.87723047, 0.8793522 ],\n",
       "      dtype=float32)>"
      ]
     },
     "execution_count": 112,
     "metadata": {},
     "output_type": "execute_result"
    }
   ],
   "source": [
    "tf.nn.sigmoid(x_n)"
   ]
  },
  {
   "cell_type": "code",
   "execution_count": 116,
   "id": "cbd86197",
   "metadata": {},
   "outputs": [
    {
     "data": {
      "text/plain": [
       "<tf.Tensor: shape=(), dtype=float32, numpy=1.9863098>"
      ]
     },
     "execution_count": 116,
     "metadata": {},
     "output_type": "execute_result"
    }
   ],
   "source": [
    "C+(2.945/alpha_i)"
   ]
  },
  {
   "cell_type": "code",
   "execution_count": 133,
   "id": "d28362c2",
   "metadata": {},
   "outputs": [
    {
     "data": {
      "text/plain": [
       "[<matplotlib.lines.Line2D at 0x7fbcf93b8b80>]"
      ]
     },
     "execution_count": 133,
     "metadata": {},
     "output_type": "execute_result"
    },
    {
     "data": {
      "image/png": "[encoded data removed]",
      "text/plain": [
       "<Figure size 432x288 with 1 Axes>"
      ]
     },
     "metadata": {
      "needs_background": "light"
     },
     "output_type": "display_data"
    }
   ],
   "source": [
    "x_n = tf.linspace(C-(2.945/alpha_i),C+(2.945/alpha_i),100)[:,None]\n",
    "plt.plot(x_n, tf.nn.sigmoid(x_n))"
   ]
  },
  {
   "cell_type": "code",
   "execution_count": 120,
   "id": "d90cc1e1",
   "metadata": {},
   "outputs": [
    {
     "data": {
      "text/plain": [
       "array([], dtype=float64)"
      ]
     },
     "execution_count": 120,
     "metadata": {},
     "output_type": "execute_result"
    }
   ],
   "source": [
    "np.intersect1d([1, 3, 4, 3], [3.5, 0.5, 2, 1.5])\n"
   ]
  },
  {
   "cell_type": "code",
   "execution_count": 140,
   "id": "50648c04",
   "metadata": {
    "scrolled": true
   },
   "outputs": [
    {
     "data": {
      "text/plain": [
       "array([], dtype=float32)"
      ]
     },
     "execution_count": 140,
     "metadata": {},
     "output_type": "execute_result"
    }
   ],
   "source": [
    "np.intersect1d(x,x_n)"
   ]
  },
  {
   "cell_type": "code",
   "execution_count": 107,
   "id": "d792f29b",
   "metadata": {},
   "outputs": [
    {
     "data": {
      "text/plain": [
       "<matplotlib.collections.LineCollection at 0x7fbcf9dae130>"
      ]
     },
     "execution_count": 107,
     "metadata": {},
     "output_type": "execute_result"
    },
    {
     "data": {
      "image/png": "[encoded data removed]",
      "text/plain": [
       "<Figure size 432x288 with 1 Axes>"
      ]
     },
     "metadata": {
      "needs_background": "light"
     },
     "output_type": "display_data"
    }
   ],
   "source": [
    "C = 1.5\n",
    "plt.hlines(y = 0.0, xmin=C-(2.945/alpha_i), xmax=C + (2.945/alpha_i),colors = 'red')\n",
    "plt.hlines(y = 0.0, xmin=x[0], xmax=x[-1],colors = 'blue',linestyles='--')"
   ]
  },
  {
   "cell_type": "code",
   "execution_count": 74,
   "id": "ab21d7f3",
   "metadata": {},
   "outputs": [
    {
     "data": {
      "text/plain": [
       "(<tf.Tensor: shape=(1,), dtype=float32, numpy=array([0.], dtype=float32)>,\n",
       " <tf.Tensor: shape=(1,), dtype=float32, numpy=array([1.], dtype=float32)>)"
      ]
     },
     "execution_count": 74,
     "metadata": {},
     "output_type": "execute_result"
    }
   ],
   "source": [
    "x[0], x[-1]"
   ]
  },
  {
   "cell_type": "code",
   "execution_count": 104,
   "id": "51a9d7ce",
   "metadata": {},
   "outputs": [],
   "source": [
    "with tf.GradientTape() as tape1:\n",
    "    tape1.watch(x)\n",
    "    with tf.GradientTape() as tape2:\n",
    "        tape2.watch(x)\n",
    "        sigma = tf.nn.sigmoid(x)\n",
    "    sigma_x = tape2.gradient(sigma,x)\n",
    "sigma_xx = tape1.gradient(sigma_x,x)"
   ]
  },
  {
   "cell_type": "code",
   "execution_count": 107,
   "id": "8a233597",
   "metadata": {},
   "outputs": [
    {
     "data": {
      "image/png": "[encoded data removed]",
      "text/plain": [
       "<Figure size 432x288 with 1 Axes>"
      ]
     },
     "metadata": {
      "needs_background": "light"
     },
     "output_type": "display_data"
    }
   ],
   "source": [
    "plt.plot(x,sigma_xx,'o', label = 'sigma_xx')\n",
    "plt.plot(x,sigma_x, '--',label = 'sigma_x')\n",
    "# plt.plot(x,sigma, label = 'sigma')\n",
    "plt.legend()\n",
    "plt.show()"
   ]
  },
  {
   "cell_type": "code",
   "execution_count": 76,
   "id": "c07b4784",
   "metadata": {},
   "outputs": [
    {
     "data": {
      "text/plain": [
       "<tf.Tensor: shape=(), dtype=int64, numpy=0>"
      ]
     },
     "execution_count": 76,
     "metadata": {},
     "output_type": "execute_result"
    }
   ],
   "source": [
    "tf.argmin(tf.abs(sigma_xx))[0]"
   ]
  },
  {
   "cell_type": "code",
   "execution_count": null,
   "id": "3c6614eb",
   "metadata": {},
   "outputs": [],
   "source": [
    "with tf.GradientTape() as tape1:\n",
    "    tape1.watch(t)\n",
    "    with tf.GradientTape() as tape2:\n",
    "        tape2.watch(t)\n",
    "        y = self.constrained_expression(t,neurons,beta)\n",
    "    y_t = tape2.gradient(y,t)\n",
    "y_tt = tape1.gradient(y_t,t)"
   ]
  },
  {
   "cell_type": "code",
   "execution_count": null,
   "id": "786cc3aa",
   "metadata": {},
   "outputs": [],
   "source": [
    "def loss_function(self,t,neurons,beta):\n",
    "    with tf.GradientTape() as tape1:\n",
    "        tape1.watch(t)\n",
    "        with tf.GradientTape() as tape2:\n",
    "            tape2.watch(t)\n",
    "            y = self.constrained_expression(t,neurons,beta)\n",
    "        y_t = tape2.gradient(y,t)\n",
    "    y_tt = tape1.gradient(y_t,t)"
   ]
  },
  {
   "cell_type": "code",
   "execution_count": null,
   "id": "49d1165a",
   "metadata": {},
   "outputs": [],
   "source": [
    "\n",
    "\n",
    "def weights_biase_init(shape,neurons):\n",
    "    value = int((neurons - 10)/10) + 4\n",
    "\n",
    "    uniform_int_alpha = tf.initializers.RandomUniform(minval=-value, maxval=value,seed = 1)\n",
    "    uniform_int_beta = tf.initializers.RandomUniform(minval=-10, maxval=10,seed = 2)\n",
    "    \n",
    "#     weights = Xavier_Glorot_initializer(shape)\n",
    "    weights = uniform_int_alpha(shape)\n",
    "    bias = uniform_int_b((neurons,))    \n",
    "    return weights,bias\n",
    "\n",
    "def sigma(t,neurons):\n",
    "    num_cols = t.shape[-1]\n",
    "    shape = [num_cols,neurons]\n",
    "    weights,bias = weights_biase_init(shape,neurons)\n",
    "    sigma_matrix = tf.tanh(tf.matmul(t,weights)+bias)\n",
    "    beta,_ = weights_biase_init([neurons,1],neurons)\n",
    "    return beta,sigma_matrix"
   ]
  },
  {
   "cell_type": "code",
   "execution_count": null,
   "id": "a69d9d05",
   "metadata": {},
   "outputs": [],
   "source": [
    "def fun(x):\n",
    "    with tf.GradientTape() as tape1:\n",
    "        tape1.watch(x)\n",
    "        with tf.GradientTape() as tape2:\n",
    "            tape2.watch(x)\n",
    "            va = sigma(x,alpha,beta)\n",
    "        fir_der = tape2.gradient(va,x)\n",
    "    sigma_xx = tape1.gradient(fir_der,x)    \n",
    "    return sigma_xx\n",
    "\n",
    "def dfun(x):\n",
    "    with tf.GradientTape() as tape:\n",
    "        tape.watch(x)\n",
    "        func = fun(x)\n",
    "    dfunc = tape.gradient(func,x)\n",
    "    \n",
    "    return x - (func/dfunc)"
   ]
  }
 ],
 "metadata": {
  "kernelspec": {
   "display_name": "Python 3 (ipykernel)",
   "language": "python",
   "name": "python3"
  },
  "language_info": {
   "codemirror_mode": {
    "name": "ipython",
    "version": 3
   },
   "file_extension": ".py",
   "mimetype": "text/x-python",
   "name": "python",
   "nbconvert_exporter": "python",
   "pygments_lexer": "ipython3",
   "version": "3.8.13"
  }
 },
 "nbformat": 4,
 "nbformat_minor": 5
}
